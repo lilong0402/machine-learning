{
 "cells": [
  {
   "cell_type": "code",
   "id": "initial_id",
   "metadata": {
    "collapsed": true,
    "ExecuteTime": {
     "end_time": "2025-04-03T03:03:57.284439Z",
     "start_time": "2025-04-03T03:03:56.201349Z"
    }
   },
   "source": [
    "import numpy as np\n",
    "\n",
    "np.random.seed(0)\n",
    "matrix_A = np.random.rand(3, 3)\n",
    "matrix_B = np.random.rand(3, 6)\n",
    "product_matrix = np.dot(matrix_A, matrix_B)\n",
    "\n",
    "print(\"Matrix A (3x3):\")\n",
    "print(matrix_A)\n",
    "print(\"\\nMatrix B (3x6):\")\n",
    "print(matrix_B)\n",
    "print(\"\\nProduct Matrix (3x6):\")\n",
    "print(product_matrix)"
   ],
   "outputs": [
    {
     "name": "stdout",
     "output_type": "stream",
     "text": [
      "Matrix A (3x3):\n",
      "[[0.5488135  0.71518937 0.60276338]\n",
      " [0.54488318 0.4236548  0.64589411]\n",
      " [0.43758721 0.891773   0.96366276]]\n",
      "\n",
      "Matrix B (3x6):\n",
      "[[0.38344152 0.79172504 0.52889492 0.56804456 0.92559664 0.07103606]\n",
      " [0.0871293  0.0202184  0.83261985 0.77815675 0.87001215 0.97861834]\n",
      " [0.79915856 0.46147936 0.78052918 0.11827443 0.63992102 0.14335329]]\n",
      "\n",
      "Product Matrix (3x6):\n",
      "[[0.75445535 0.72713223 1.35621994 0.93957145 1.51592433 0.82529109]\n",
      " [0.76201539 0.73803008 1.14506854 0.71558053 1.28624809 0.54589376]\n",
      " [1.01560801 0.80918945 1.72611245 1.05648488 1.79755065 1.04193411]]\n"
     ]
    }
   ],
   "execution_count": 1
  },
  {
   "metadata": {
    "ExecuteTime": {
     "end_time": "2025-04-03T03:20:16.417874Z",
     "start_time": "2025-04-03T03:20:16.395505Z"
    }
   },
   "cell_type": "code",
   "source": [
    "import numpy as np\n",
    "\n",
    "np.random.seed(0)  # 设置随机种子以获得可重复的结果\n",
    "\n",
    "X = np.random.randn(4, 8)  # 假设我们的向量维度是8，即从768变成8，还是\"LLM with me\"的4个Token\n",
    "W = np.random.randn(8, 1)  # 权重矩阵W，形状为[8, 1]\n",
    "b = np.random.randn(1)  # 偏置向量b，形状为[1]\n",
    "# 线性变换Y = XW + b\n",
    "# 这里使用np.dot进行矩阵乘法，然后加上偏置\n",
    "Y = np.dot(X, W) + b\n",
    "# 输出结果Y，形状为[4, 1]， 为了得到形状[4,]的输出，我们可以将结果压缩到一维\n",
    "Y = np.squeeze(Y)\n",
    "\n",
    "print(\"Input X shape:\", X.shape)\n",
    "print(\"Weight W shape:\", W.shape)\n",
    "print(\"Bias b shape:\", b.shape)\n",
    "print(\"Output Y shape:\", Y.shape)\n",
    "print(\"Output Y:\", Y)"
   ],
   "id": "3f0aa522c53be106",
   "outputs": [
    {
     "name": "stdout",
     "output_type": "stream",
     "text": [
      "Input X shape: (4, 8)\n",
      "Weight W shape: (8, 1)\n",
      "Bias b shape: (1,)\n",
      "Output Y shape: (4,)\n",
      "Output Y: [-2.59709604 -0.78316274 -4.6765379   3.25016417]\n"
     ]
    }
   ],
   "execution_count": 2
  },
  {
   "metadata": {},
   "cell_type": "code",
   "outputs": [],
   "execution_count": null,
   "source": "",
   "id": "ea409c98d0f273fb"
  },
  {
   "metadata": {},
   "cell_type": "code",
   "outputs": [],
   "execution_count": null,
   "source": "",
   "id": "1cd993f82f8f3857"
  },
  {
   "metadata": {},
   "cell_type": "code",
   "outputs": [],
   "execution_count": null,
   "source": "",
   "id": "144d9b9bc7a96d08"
  }
 ],
 "metadata": {
  "kernelspec": {
   "display_name": "Python 3",
   "language": "python",
   "name": "python3"
  },
  "language_info": {
   "codemirror_mode": {
    "name": "ipython",
    "version": 2
   },
   "file_extension": ".py",
   "mimetype": "text/x-python",
   "name": "python",
   "nbconvert_exporter": "python",
   "pygments_lexer": "ipython2",
   "version": "2.7.6"
  }
 },
 "nbformat": 4,
 "nbformat_minor": 5
}
