{
 "cells": [
  {
   "cell_type": "code",
   "id": "initial_id",
   "metadata": {
    "collapsed": true,
    "ExecuteTime": {
     "end_time": "2025-04-16T07:16:08.888878Z",
     "start_time": "2025-04-16T07:16:03.608897Z"
    }
   },
   "source": [
    "import pandas as pd\n",
    "from torch.utils.data import DataLoader,Dataset\n",
    "import torch\n",
    "import torch.nn as nn"
   ],
   "outputs": [],
   "execution_count": 1
  },
  {
   "metadata": {
    "ExecuteTime": {
     "end_time": "2025-04-16T07:16:11.440567Z",
     "start_time": "2025-04-16T07:16:08.922441Z"
    }
   },
   "cell_type": "code",
   "source": [
    "data = pd.read_csv('./train.csv').iloc[:, 1:-1]\n",
    "data_test = pd.read_csv('./train.csv').iloc[:, 1:-1]\n",
    "data.drop(columns=['Episode_Title'], inplace=True)\n",
    "data_test.drop(columns=['Episode_Title'], inplace=True)\n",
    "data.shape\n",
    "\n"
   ],
   "id": "22431e418cca2be1",
   "outputs": [
    {
     "data": {
      "text/plain": [
       "(750000, 9)"
      ]
     },
     "execution_count": 2,
     "metadata": {},
     "output_type": "execute_result"
    }
   ],
   "execution_count": 2
  },
  {
   "metadata": {
    "ExecuteTime": {
     "end_time": "2025-04-16T07:16:13.482175Z",
     "start_time": "2025-04-16T07:16:13.475281Z"
    }
   },
   "cell_type": "code",
   "source": "data['Episode_Length_missing'] = data['Episode_Length_minutes'].isna().astype(int)\n",
   "id": "e8fe579a259da5ac",
   "outputs": [],
   "execution_count": 3
  },
  {
   "metadata": {
    "ExecuteTime": {
     "end_time": "2025-04-16T07:16:13.657968Z",
     "start_time": "2025-04-16T07:16:13.653209Z"
    }
   },
   "cell_type": "code",
   "source": "data.shape\n",
   "id": "8e77b89afdbb9d65",
   "outputs": [
    {
     "data": {
      "text/plain": [
       "(750000, 10)"
      ]
     },
     "execution_count": 4,
     "metadata": {},
     "output_type": "execute_result"
    }
   ],
   "execution_count": 4
  },
  {
   "metadata": {
    "ExecuteTime": {
     "end_time": "2025-04-16T07:16:13.952497Z",
     "start_time": "2025-04-16T07:16:13.764037Z"
    }
   },
   "cell_type": "code",
   "source": "data",
   "id": "16dc9c3880ed3c4c",
   "outputs": [
    {
     "data": {
      "text/plain": [
       "            Podcast_Name  Episode_Length_minutes       Genre  \\\n",
       "0        Mystery Matters                     NaN  True Crime   \n",
       "1          Joke Junction                  119.80      Comedy   \n",
       "2         Study Sessions                   73.90   Education   \n",
       "3         Digital Digest                   67.17  Technology   \n",
       "4            Mind & Body                  110.51      Health   \n",
       "...                  ...                     ...         ...   \n",
       "749995      Learning Lab                   75.66   Education   \n",
       "749996   Business Briefs                   75.75    Business   \n",
       "749997  Lifestyle Lounge                   30.98   Lifestyle   \n",
       "749998       Style Guide                  108.98   Lifestyle   \n",
       "749999    Sports Central                   24.10      Sports   \n",
       "\n",
       "        Host_Popularity_percentage Publication_Day Publication_Time  \\\n",
       "0                            74.81        Thursday            Night   \n",
       "1                            66.95        Saturday        Afternoon   \n",
       "2                            69.97         Tuesday          Evening   \n",
       "3                            57.22          Monday          Morning   \n",
       "4                            80.07          Monday        Afternoon   \n",
       "...                            ...             ...              ...   \n",
       "749995                       69.36        Saturday          Morning   \n",
       "749996                       35.21        Saturday            Night   \n",
       "749997                       78.58        Thursday          Morning   \n",
       "749998                       45.39        Thursday          Morning   \n",
       "749999                       22.45        Saturday            Night   \n",
       "\n",
       "        Guest_Popularity_percentage  Number_of_Ads Episode_Sentiment  \\\n",
       "0                               NaN            0.0          Positive   \n",
       "1                             75.95            2.0          Negative   \n",
       "2                              8.97            0.0          Negative   \n",
       "3                             78.70            2.0          Positive   \n",
       "4                             58.68            3.0           Neutral   \n",
       "...                             ...            ...               ...   \n",
       "749995                          NaN            0.0          Negative   \n",
       "749996                          NaN            2.0           Neutral   \n",
       "749997                        84.89            0.0          Negative   \n",
       "749998                        93.27            0.0          Negative   \n",
       "749999                        36.72            0.0           Neutral   \n",
       "\n",
       "        Episode_Length_missing  \n",
       "0                            1  \n",
       "1                            0  \n",
       "2                            0  \n",
       "3                            0  \n",
       "4                            0  \n",
       "...                        ...  \n",
       "749995                       0  \n",
       "749996                       0  \n",
       "749997                       0  \n",
       "749998                       0  \n",
       "749999                       0  \n",
       "\n",
       "[750000 rows x 10 columns]"
      ],
      "text/html": [
       "<div>\n",
       "<style scoped>\n",
       "    .dataframe tbody tr th:only-of-type {\n",
       "        vertical-align: middle;\n",
       "    }\n",
       "\n",
       "    .dataframe tbody tr th {\n",
       "        vertical-align: top;\n",
       "    }\n",
       "\n",
       "    .dataframe thead th {\n",
       "        text-align: right;\n",
       "    }\n",
       "</style>\n",
       "<table border=\"1\" class=\"dataframe\">\n",
       "  <thead>\n",
       "    <tr style=\"text-align: right;\">\n",
       "      <th></th>\n",
       "      <th>Podcast_Name</th>\n",
       "      <th>Episode_Length_minutes</th>\n",
       "      <th>Genre</th>\n",
       "      <th>Host_Popularity_percentage</th>\n",
       "      <th>Publication_Day</th>\n",
       "      <th>Publication_Time</th>\n",
       "      <th>Guest_Popularity_percentage</th>\n",
       "      <th>Number_of_Ads</th>\n",
       "      <th>Episode_Sentiment</th>\n",
       "      <th>Episode_Length_missing</th>\n",
       "    </tr>\n",
       "  </thead>\n",
       "  <tbody>\n",
       "    <tr>\n",
       "      <th>0</th>\n",
       "      <td>Mystery Matters</td>\n",
       "      <td>NaN</td>\n",
       "      <td>True Crime</td>\n",
       "      <td>74.81</td>\n",
       "      <td>Thursday</td>\n",
       "      <td>Night</td>\n",
       "      <td>NaN</td>\n",
       "      <td>0.0</td>\n",
       "      <td>Positive</td>\n",
       "      <td>1</td>\n",
       "    </tr>\n",
       "    <tr>\n",
       "      <th>1</th>\n",
       "      <td>Joke Junction</td>\n",
       "      <td>119.80</td>\n",
       "      <td>Comedy</td>\n",
       "      <td>66.95</td>\n",
       "      <td>Saturday</td>\n",
       "      <td>Afternoon</td>\n",
       "      <td>75.95</td>\n",
       "      <td>2.0</td>\n",
       "      <td>Negative</td>\n",
       "      <td>0</td>\n",
       "    </tr>\n",
       "    <tr>\n",
       "      <th>2</th>\n",
       "      <td>Study Sessions</td>\n",
       "      <td>73.90</td>\n",
       "      <td>Education</td>\n",
       "      <td>69.97</td>\n",
       "      <td>Tuesday</td>\n",
       "      <td>Evening</td>\n",
       "      <td>8.97</td>\n",
       "      <td>0.0</td>\n",
       "      <td>Negative</td>\n",
       "      <td>0</td>\n",
       "    </tr>\n",
       "    <tr>\n",
       "      <th>3</th>\n",
       "      <td>Digital Digest</td>\n",
       "      <td>67.17</td>\n",
       "      <td>Technology</td>\n",
       "      <td>57.22</td>\n",
       "      <td>Monday</td>\n",
       "      <td>Morning</td>\n",
       "      <td>78.70</td>\n",
       "      <td>2.0</td>\n",
       "      <td>Positive</td>\n",
       "      <td>0</td>\n",
       "    </tr>\n",
       "    <tr>\n",
       "      <th>4</th>\n",
       "      <td>Mind &amp; Body</td>\n",
       "      <td>110.51</td>\n",
       "      <td>Health</td>\n",
       "      <td>80.07</td>\n",
       "      <td>Monday</td>\n",
       "      <td>Afternoon</td>\n",
       "      <td>58.68</td>\n",
       "      <td>3.0</td>\n",
       "      <td>Neutral</td>\n",
       "      <td>0</td>\n",
       "    </tr>\n",
       "    <tr>\n",
       "      <th>...</th>\n",
       "      <td>...</td>\n",
       "      <td>...</td>\n",
       "      <td>...</td>\n",
       "      <td>...</td>\n",
       "      <td>...</td>\n",
       "      <td>...</td>\n",
       "      <td>...</td>\n",
       "      <td>...</td>\n",
       "      <td>...</td>\n",
       "      <td>...</td>\n",
       "    </tr>\n",
       "    <tr>\n",
       "      <th>749995</th>\n",
       "      <td>Learning Lab</td>\n",
       "      <td>75.66</td>\n",
       "      <td>Education</td>\n",
       "      <td>69.36</td>\n",
       "      <td>Saturday</td>\n",
       "      <td>Morning</td>\n",
       "      <td>NaN</td>\n",
       "      <td>0.0</td>\n",
       "      <td>Negative</td>\n",
       "      <td>0</td>\n",
       "    </tr>\n",
       "    <tr>\n",
       "      <th>749996</th>\n",
       "      <td>Business Briefs</td>\n",
       "      <td>75.75</td>\n",
       "      <td>Business</td>\n",
       "      <td>35.21</td>\n",
       "      <td>Saturday</td>\n",
       "      <td>Night</td>\n",
       "      <td>NaN</td>\n",
       "      <td>2.0</td>\n",
       "      <td>Neutral</td>\n",
       "      <td>0</td>\n",
       "    </tr>\n",
       "    <tr>\n",
       "      <th>749997</th>\n",
       "      <td>Lifestyle Lounge</td>\n",
       "      <td>30.98</td>\n",
       "      <td>Lifestyle</td>\n",
       "      <td>78.58</td>\n",
       "      <td>Thursday</td>\n",
       "      <td>Morning</td>\n",
       "      <td>84.89</td>\n",
       "      <td>0.0</td>\n",
       "      <td>Negative</td>\n",
       "      <td>0</td>\n",
       "    </tr>\n",
       "    <tr>\n",
       "      <th>749998</th>\n",
       "      <td>Style Guide</td>\n",
       "      <td>108.98</td>\n",
       "      <td>Lifestyle</td>\n",
       "      <td>45.39</td>\n",
       "      <td>Thursday</td>\n",
       "      <td>Morning</td>\n",
       "      <td>93.27</td>\n",
       "      <td>0.0</td>\n",
       "      <td>Negative</td>\n",
       "      <td>0</td>\n",
       "    </tr>\n",
       "    <tr>\n",
       "      <th>749999</th>\n",
       "      <td>Sports Central</td>\n",
       "      <td>24.10</td>\n",
       "      <td>Sports</td>\n",
       "      <td>22.45</td>\n",
       "      <td>Saturday</td>\n",
       "      <td>Night</td>\n",
       "      <td>36.72</td>\n",
       "      <td>0.0</td>\n",
       "      <td>Neutral</td>\n",
       "      <td>0</td>\n",
       "    </tr>\n",
       "  </tbody>\n",
       "</table>\n",
       "<p>750000 rows × 10 columns</p>\n",
       "</div>"
      ]
     },
     "execution_count": 5,
     "metadata": {},
     "output_type": "execute_result"
    }
   ],
   "execution_count": 5
  },
  {
   "metadata": {
    "jupyter": {
     "is_executing": true
    },
    "ExecuteTime": {
     "start_time": "2025-04-16T07:06:35.078121Z"
    }
   },
   "cell_type": "code",
   "source": "",
   "id": "c714620bcb1210bc",
   "outputs": [],
   "execution_count": null
  },
  {
   "metadata": {},
   "cell_type": "code",
   "outputs": [],
   "execution_count": null,
   "source": "",
   "id": "b2290c7f2c503dcb"
  },
  {
   "metadata": {
    "ExecuteTime": {
     "end_time": "2025-04-16T06:47:11.908013Z",
     "start_time": "2025-04-16T06:47:11.903755Z"
    }
   },
   "cell_type": "code",
   "source": "data_test.shape",
   "id": "3ef115c59de766cb",
   "outputs": [
    {
     "data": {
      "text/plain": [
       "(750000, 9)"
      ]
     },
     "execution_count": 160,
     "metadata": {},
     "output_type": "execute_result"
    }
   ],
   "execution_count": 160
  },
  {
   "metadata": {
    "ExecuteTime": {
     "end_time": "2025-04-16T06:47:11.974159Z",
     "start_time": "2025-04-16T06:47:11.949007Z"
    }
   },
   "cell_type": "code",
   "source": [
    "y_train = data[['Episode_Length_minutes']]\n",
    "y_train.shape"
   ],
   "id": "db1b8390f9b7c53b",
   "outputs": [
    {
     "data": {
      "text/plain": [
       "(539048, 1)"
      ]
     },
     "execution_count": 161,
     "metadata": {},
     "output_type": "execute_result"
    }
   ],
   "execution_count": 161
  },
  {
   "metadata": {
    "ExecuteTime": {
     "end_time": "2025-04-16T06:53:45.114165Z",
     "start_time": "2025-04-16T06:53:45.109916Z"
    }
   },
   "cell_type": "code",
   "source": "\n",
   "id": "cabe286be5db8c81",
   "outputs": [
    {
     "data": {
      "text/plain": [
       "Episode_Length_minutes    64.556952\n",
       "dtype: float64"
      ]
     },
     "execution_count": 209,
     "metadata": {},
     "output_type": "execute_result"
    }
   ],
   "execution_count": 209
  },
  {
   "metadata": {
    "ExecuteTime": {
     "end_time": "2025-04-16T06:47:12.011805Z",
     "start_time": "2025-04-16T06:47:12.006605Z"
    }
   },
   "cell_type": "code",
   "source": "y_train.head(10)",
   "id": "e9a2f1a35ed2882d",
   "outputs": [
    {
     "data": {
      "text/plain": [
       "    Episode_Length_minutes\n",
       "1                 1.679572\n",
       "2                 0.284060\n",
       "3                 0.079445\n",
       "4                 1.397125\n",
       "6                 0.160318\n",
       "7                -0.487576\n",
       "10                1.272471\n",
       "11                1.298314\n",
       "12                0.534583\n",
       "13                0.849561"
      ],
      "text/html": [
       "<div>\n",
       "<style scoped>\n",
       "    .dataframe tbody tr th:only-of-type {\n",
       "        vertical-align: middle;\n",
       "    }\n",
       "\n",
       "    .dataframe tbody tr th {\n",
       "        vertical-align: top;\n",
       "    }\n",
       "\n",
       "    .dataframe thead th {\n",
       "        text-align: right;\n",
       "    }\n",
       "</style>\n",
       "<table border=\"1\" class=\"dataframe\">\n",
       "  <thead>\n",
       "    <tr style=\"text-align: right;\">\n",
       "      <th></th>\n",
       "      <th>Episode_Length_minutes</th>\n",
       "    </tr>\n",
       "  </thead>\n",
       "  <tbody>\n",
       "    <tr>\n",
       "      <th>1</th>\n",
       "      <td>1.679572</td>\n",
       "    </tr>\n",
       "    <tr>\n",
       "      <th>2</th>\n",
       "      <td>0.284060</td>\n",
       "    </tr>\n",
       "    <tr>\n",
       "      <th>3</th>\n",
       "      <td>0.079445</td>\n",
       "    </tr>\n",
       "    <tr>\n",
       "      <th>4</th>\n",
       "      <td>1.397125</td>\n",
       "    </tr>\n",
       "    <tr>\n",
       "      <th>6</th>\n",
       "      <td>0.160318</td>\n",
       "    </tr>\n",
       "    <tr>\n",
       "      <th>7</th>\n",
       "      <td>-0.487576</td>\n",
       "    </tr>\n",
       "    <tr>\n",
       "      <th>10</th>\n",
       "      <td>1.272471</td>\n",
       "    </tr>\n",
       "    <tr>\n",
       "      <th>11</th>\n",
       "      <td>1.298314</td>\n",
       "    </tr>\n",
       "    <tr>\n",
       "      <th>12</th>\n",
       "      <td>0.534583</td>\n",
       "    </tr>\n",
       "    <tr>\n",
       "      <th>13</th>\n",
       "      <td>0.849561</td>\n",
       "    </tr>\n",
       "  </tbody>\n",
       "</table>\n",
       "</div>"
      ]
     },
     "execution_count": 162,
     "metadata": {},
     "output_type": "execute_result"
    }
   ],
   "execution_count": 162
  },
  {
   "metadata": {
    "ExecuteTime": {
     "end_time": "2025-04-16T06:47:12.216188Z",
     "start_time": "2025-04-16T06:47:12.157667Z"
    }
   },
   "cell_type": "code",
   "source": [
    "x_train = data[['Podcast_Name','Genre','Host_Popularity_percentage','Publication_Day','Publication_Time','Number_of_Ads','Episode_Sentiment']]\n",
    "x_train_test = data_test[['Podcast_Name','Genre','Host_Popularity_percentage','Publication_Day','Publication_Time','Number_of_Ads','Episode_Sentiment']]\n"
   ],
   "id": "4115f1470a1a32ce",
   "outputs": [],
   "execution_count": 163
  },
  {
   "metadata": {
    "ExecuteTime": {
     "end_time": "2025-04-16T06:47:12.247832Z",
     "start_time": "2025-04-16T06:47:12.240395Z"
    }
   },
   "cell_type": "code",
   "source": "x_train.head(10)",
   "id": "cbb874467701d55f",
   "outputs": [
    {
     "data": {
      "text/plain": [
       "      Podcast_Name       Genre  Host_Popularity_percentage Publication_Day  \\\n",
       "1    Joke Junction      Comedy                       66.95        Saturday   \n",
       "2   Study Sessions   Education                       69.97         Tuesday   \n",
       "3   Digital Digest  Technology                       57.22          Monday   \n",
       "4      Mind & Body      Health                       80.07          Monday   \n",
       "6   Criminal Minds  True Crime                       35.82          Sunday   \n",
       "7     News Roundup        News                       44.99        Thursday   \n",
       "10  Sports Central      Sports                       84.29        Thursday   \n",
       "11      Melody Mix       Music                       78.12          Monday   \n",
       "12        Game Day      Sports                       86.65        Saturday   \n",
       "13     Gadget Geek  Technology                       68.42       Wednesday   \n",
       "\n",
       "   Publication_Time  Number_of_Ads Episode_Sentiment  \n",
       "1         Afternoon            2.0          Negative  \n",
       "2           Evening            0.0          Negative  \n",
       "3           Morning            2.0          Positive  \n",
       "4         Afternoon            3.0           Neutral  \n",
       "6             Night            0.0           Neutral  \n",
       "7             Night            0.0          Positive  \n",
       "10          Evening            3.0          Positive  \n",
       "11          Evening            1.0          Positive  \n",
       "12          Morning            1.0           Neutral  \n",
       "13        Afternoon            0.0           Neutral  "
      ],
      "text/html": [
       "<div>\n",
       "<style scoped>\n",
       "    .dataframe tbody tr th:only-of-type {\n",
       "        vertical-align: middle;\n",
       "    }\n",
       "\n",
       "    .dataframe tbody tr th {\n",
       "        vertical-align: top;\n",
       "    }\n",
       "\n",
       "    .dataframe thead th {\n",
       "        text-align: right;\n",
       "    }\n",
       "</style>\n",
       "<table border=\"1\" class=\"dataframe\">\n",
       "  <thead>\n",
       "    <tr style=\"text-align: right;\">\n",
       "      <th></th>\n",
       "      <th>Podcast_Name</th>\n",
       "      <th>Genre</th>\n",
       "      <th>Host_Popularity_percentage</th>\n",
       "      <th>Publication_Day</th>\n",
       "      <th>Publication_Time</th>\n",
       "      <th>Number_of_Ads</th>\n",
       "      <th>Episode_Sentiment</th>\n",
       "    </tr>\n",
       "  </thead>\n",
       "  <tbody>\n",
       "    <tr>\n",
       "      <th>1</th>\n",
       "      <td>Joke Junction</td>\n",
       "      <td>Comedy</td>\n",
       "      <td>66.95</td>\n",
       "      <td>Saturday</td>\n",
       "      <td>Afternoon</td>\n",
       "      <td>2.0</td>\n",
       "      <td>Negative</td>\n",
       "    </tr>\n",
       "    <tr>\n",
       "      <th>2</th>\n",
       "      <td>Study Sessions</td>\n",
       "      <td>Education</td>\n",
       "      <td>69.97</td>\n",
       "      <td>Tuesday</td>\n",
       "      <td>Evening</td>\n",
       "      <td>0.0</td>\n",
       "      <td>Negative</td>\n",
       "    </tr>\n",
       "    <tr>\n",
       "      <th>3</th>\n",
       "      <td>Digital Digest</td>\n",
       "      <td>Technology</td>\n",
       "      <td>57.22</td>\n",
       "      <td>Monday</td>\n",
       "      <td>Morning</td>\n",
       "      <td>2.0</td>\n",
       "      <td>Positive</td>\n",
       "    </tr>\n",
       "    <tr>\n",
       "      <th>4</th>\n",
       "      <td>Mind &amp; Body</td>\n",
       "      <td>Health</td>\n",
       "      <td>80.07</td>\n",
       "      <td>Monday</td>\n",
       "      <td>Afternoon</td>\n",
       "      <td>3.0</td>\n",
       "      <td>Neutral</td>\n",
       "    </tr>\n",
       "    <tr>\n",
       "      <th>6</th>\n",
       "      <td>Criminal Minds</td>\n",
       "      <td>True Crime</td>\n",
       "      <td>35.82</td>\n",
       "      <td>Sunday</td>\n",
       "      <td>Night</td>\n",
       "      <td>0.0</td>\n",
       "      <td>Neutral</td>\n",
       "    </tr>\n",
       "    <tr>\n",
       "      <th>7</th>\n",
       "      <td>News Roundup</td>\n",
       "      <td>News</td>\n",
       "      <td>44.99</td>\n",
       "      <td>Thursday</td>\n",
       "      <td>Night</td>\n",
       "      <td>0.0</td>\n",
       "      <td>Positive</td>\n",
       "    </tr>\n",
       "    <tr>\n",
       "      <th>10</th>\n",
       "      <td>Sports Central</td>\n",
       "      <td>Sports</td>\n",
       "      <td>84.29</td>\n",
       "      <td>Thursday</td>\n",
       "      <td>Evening</td>\n",
       "      <td>3.0</td>\n",
       "      <td>Positive</td>\n",
       "    </tr>\n",
       "    <tr>\n",
       "      <th>11</th>\n",
       "      <td>Melody Mix</td>\n",
       "      <td>Music</td>\n",
       "      <td>78.12</td>\n",
       "      <td>Monday</td>\n",
       "      <td>Evening</td>\n",
       "      <td>1.0</td>\n",
       "      <td>Positive</td>\n",
       "    </tr>\n",
       "    <tr>\n",
       "      <th>12</th>\n",
       "      <td>Game Day</td>\n",
       "      <td>Sports</td>\n",
       "      <td>86.65</td>\n",
       "      <td>Saturday</td>\n",
       "      <td>Morning</td>\n",
       "      <td>1.0</td>\n",
       "      <td>Neutral</td>\n",
       "    </tr>\n",
       "    <tr>\n",
       "      <th>13</th>\n",
       "      <td>Gadget Geek</td>\n",
       "      <td>Technology</td>\n",
       "      <td>68.42</td>\n",
       "      <td>Wednesday</td>\n",
       "      <td>Afternoon</td>\n",
       "      <td>0.0</td>\n",
       "      <td>Neutral</td>\n",
       "    </tr>\n",
       "  </tbody>\n",
       "</table>\n",
       "</div>"
      ]
     },
     "execution_count": 164,
     "metadata": {},
     "output_type": "execute_result"
    }
   ],
   "execution_count": 164
  },
  {
   "metadata": {
    "ExecuteTime": {
     "end_time": "2025-04-16T06:47:12.291210Z",
     "start_time": "2025-04-16T06:47:12.286677Z"
    }
   },
   "cell_type": "code",
   "source": "x_train.dtypes",
   "id": "3aecdd4baeba1f80",
   "outputs": [
    {
     "data": {
      "text/plain": [
       "Podcast_Name                   object\n",
       "Genre                          object\n",
       "Host_Popularity_percentage    float64\n",
       "Publication_Day                object\n",
       "Publication_Time               object\n",
       "Number_of_Ads                 float64\n",
       "Episode_Sentiment              object\n",
       "dtype: object"
      ]
     },
     "execution_count": 165,
     "metadata": {},
     "output_type": "execute_result"
    }
   ],
   "execution_count": 165
  },
  {
   "metadata": {
    "ExecuteTime": {
     "end_time": "2025-04-16T06:47:12.864030Z",
     "start_time": "2025-04-16T06:47:12.353314Z"
    }
   },
   "cell_type": "code",
   "source": [
    "x_train = pd.get_dummies(x_train).astype(float)\n",
    "x_train_test = pd.get_dummies(x_train_test).astype(float)\n",
    "x_train.shape"
   ],
   "id": "a79a0972a02d7c88",
   "outputs": [
    {
     "data": {
      "text/plain": [
       "(539048, 74)"
      ]
     },
     "execution_count": 166,
     "metadata": {},
     "output_type": "execute_result"
    }
   ],
   "execution_count": 166
  },
  {
   "metadata": {
    "ExecuteTime": {
     "end_time": "2025-04-16T06:47:12.889641Z",
     "start_time": "2025-04-16T06:47:12.885585Z"
    }
   },
   "cell_type": "code",
   "source": [
    "from torch.utils.data import Dataset\n",
    "import torch\n",
    "class MyDataset(Dataset):\n",
    "    def __init__(self, data,mode, target=None):\n",
    "        self.mode = mode\n",
    "        if mode == \"test\":\n",
    "            self.data = torch.tensor(data).float()\n",
    "        elif mode == \"train\":\n",
    "            self.data = torch.tensor(data).float()\n",
    "            self.target = torch.tensor(target).float()\n",
    "    def __getitem__(self, index):\n",
    "        if self.mode == \"test\":\n",
    "            return self.data[index]\n",
    "        return self.data[index],self.target[index]\n",
    "    def __len__(self):\n",
    "        return len(self.data)"
   ],
   "id": "b4d238cc04eedb44",
   "outputs": [],
   "execution_count": 167
  },
  {
   "metadata": {
    "ExecuteTime": {
     "end_time": "2025-04-16T06:47:13.461117Z",
     "start_time": "2025-04-16T06:47:13.007185Z"
    }
   },
   "cell_type": "code",
   "source": [
    "train_loader = DataLoader(MyDataset(x_train.values,mode = \"train\",target=y_train.values), batch_size=1024, shuffle=True)\n",
    "test_loader = DataLoader(MyDataset(x_train_test.values,mode=\"test\"), batch_size=1024, shuffle=True)"
   ],
   "id": "b2c9fa3c5eb04f4f",
   "outputs": [],
   "execution_count": 168
  },
  {
   "metadata": {
    "ExecuteTime": {
     "end_time": "2025-04-16T06:47:13.469087Z",
     "start_time": "2025-04-16T06:47:13.464769Z"
    }
   },
   "cell_type": "code",
   "source": [
    "# class model(torch.nn.Module):\n",
    "#     def __init__(self,input_size,output_size):\n",
    "#         super(model, self).__init__()\n",
    "#         self.nn = nn.Sequential(\n",
    "#             nn.Linear(input_size,256),\n",
    "#             nn.BatchNorm1d(256),\n",
    "#             nn.Dropout(0.2),\n",
    "#             nn.ReLU(),\n",
    "#             nn.Linear(256,output_size),\n",
    "#\n",
    "#         )\n",
    "#     def forward(self, x):\n",
    "#         return self.nn(x)\n",
    "class model(nn.Module):\n",
    "    def __init__(self, input_size, output_size):\n",
    "        super(model, self).__init__()\n",
    "        self.nn = nn.Sequential(\n",
    "            nn.Linear(input_size, 256),\n",
    "            nn.BatchNorm1d(256),\n",
    "            nn.LeakyReLU(0.1),  # 改用LeakyReLU防止神经元死亡\n",
    "            nn.Dropout(0.3),     # 提高Dropout率\n",
    "\n",
    "            nn.Linear(256, 128),\n",
    "            nn.BatchNorm1d(128),\n",
    "            nn.LeakyReLU(0.1),\n",
    "            nn.Dropout(0.2),\n",
    "\n",
    "            nn.Linear(128, output_size),\n",
    "            # 如果目标值在[0,1]或[0,100]范围内可添加：\n",
    "            # nn.Sigmoid()  # 或 nn.Tanh()\n",
    "        )\n",
    "\n",
    "    def forward(self, x):\n",
    "        return self.nn(x)\n"
   ],
   "id": "c9181308347e157d",
   "outputs": [],
   "execution_count": 169
  },
  {
   "metadata": {
    "ExecuteTime": {
     "end_time": "2025-04-16T06:48:31.276204Z",
     "start_time": "2025-04-16T06:47:13.594400Z"
    }
   },
   "cell_type": "code",
   "source": [
    "epochs = 20\n",
    "loss_fn = nn.MSELoss()\n",
    "model = model(input_size=x_train.shape[1],output_size=y_train.shape[1]).to(torch.device('cuda:0'))\n",
    "optimizer = torch.optim.Adam(model.parameters(), lr=0.001)\n",
    "for epoch in range(epochs):\n",
    "    loss_all = 0\n",
    "    model.train()\n",
    "    for batch_idx, (data, target) in enumerate(train_loader):\n",
    "        data,target = data.to(torch.device('cuda:0')),target.to(torch.device('cuda:0'))\n",
    "        optimizer.zero_grad()\n",
    "        output = model(data)\n",
    "        loss = loss_fn(output, target)\n",
    "        loss_all += loss.item()\n",
    "        loss.backward()\n",
    "        optimizer.step()\n",
    "    print(f\"epoch {epoch+1}, loss {loss_all/len(train_loader)}\")\n",
    "\n",
    "\n"
   ],
   "id": "f4c6628b35b49974",
   "outputs": [
    {
     "name": "stdout",
     "output_type": "stream",
     "text": [
      "epoch 1, loss 1.0068868778688405\n",
      "epoch 2, loss 0.9937074409490292\n",
      "epoch 3, loss 0.9934096101113017\n",
      "epoch 4, loss 0.9925611018003504\n",
      "epoch 5, loss 0.9924692527392783\n",
      "epoch 6, loss 0.9922678109816854\n",
      "epoch 7, loss 0.9920480105410944\n",
      "epoch 8, loss 0.9918430998384161\n",
      "epoch 9, loss 0.9915680382011963\n",
      "epoch 10, loss 0.9912784040765925\n",
      "epoch 11, loss 0.9911779713811639\n",
      "epoch 12, loss 0.9909265603467229\n",
      "epoch 13, loss 0.9908365522435313\n",
      "epoch 14, loss 0.990428936549337\n",
      "epoch 15, loss 0.9903366822445415\n",
      "epoch 16, loss 0.9902144188672813\n",
      "epoch 17, loss 0.9901841918476618\n",
      "epoch 18, loss 0.9899953611661633\n",
      "epoch 19, loss 0.9897827823881407\n",
      "epoch 20, loss 0.9897639565947386\n"
     ]
    }
   ],
   "execution_count": 170
  },
  {
   "metadata": {
    "ExecuteTime": {
     "end_time": "2025-04-16T06:48:33.758467Z",
     "start_time": "2025-04-16T06:48:31.480222Z"
    }
   },
   "cell_type": "code",
   "source": [
    "outputs=[]\n",
    "with torch.no_grad():\n",
    "    model.eval()\n",
    "    for batch_idx, (data) in enumerate(test_loader):\n",
    "        data = data.to(torch.device('cuda:0'))\n",
    "        output = model(data)\n",
    "        outputs.append(output)"
   ],
   "id": "92e2137e2b00a6a",
   "outputs": [],
   "execution_count": 171
  },
  {
   "metadata": {
    "ExecuteTime": {
     "end_time": "2025-04-16T06:53:54.283697Z",
     "start_time": "2025-04-16T06:53:54.275523Z"
    }
   },
   "cell_type": "code",
   "source": "outputs_tensor = torch.cat(outputs, dim=0).cpu().detach().numpy()\n",
   "id": "23d1a77922bf01a6",
   "outputs": [],
   "execution_count": 210
  },
  {
   "metadata": {
    "ExecuteTime": {
     "end_time": "2025-04-16T06:53:56.499269Z",
     "start_time": "2025-04-16T06:53:56.135225Z"
    }
   },
   "cell_type": "code",
   "source": [
    "df_results = pd.DataFrame(outputs_tensor, columns=['Episode_Length_minutes'])\n",
    "df_results.to_csv(\"guest.csv\", index=False)\n",
    "print(\"预测结果已保存为 guest.csv\")"
   ],
   "id": "a42a4e93e2156a45",
   "outputs": [
    {
     "name": "stdout",
     "output_type": "stream",
     "text": [
      "预测结果已保存为 guest.csv\n"
     ]
    }
   ],
   "execution_count": 211
  }
 ],
 "metadata": {
  "kernelspec": {
   "display_name": "Python 3",
   "language": "python",
   "name": "python3"
  },
  "language_info": {
   "codemirror_mode": {
    "name": "ipython",
    "version": 2
   },
   "file_extension": ".py",
   "mimetype": "text/x-python",
   "name": "python",
   "nbconvert_exporter": "python",
   "pygments_lexer": "ipython2",
   "version": "2.7.6"
  }
 },
 "nbformat": 4,
 "nbformat_minor": 5
}
