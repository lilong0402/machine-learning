{
 "cells": [
  {
   "metadata": {},
   "cell_type": "markdown",
   "source": [
    "# 预备步骤\n",
    "    自然语言处理文本之前通常需要先将文本分解成词和句子"
   ],
   "id": "ae97b2dc6fe1e52c"
  },
  {
   "metadata": {},
   "cell_type": "markdown",
   "source": [
    "## 词干提取和词形还原\n",
    "    词干提取是指去掉后缀并将一个词简化为某种基本形式的过程，常用于搜索引擎\n",
    "    词形还原是将一个词的所有不用形式映射到其基本词或词元的过程\n",
    "        better 在词干提取后保持不变，但在词形还原后，应该变成good\n",
    "\n"
   ],
   "id": "8c7099ff9cdcdb32"
  },
  {
   "metadata": {
    "ExecuteTime": {
     "end_time": "2025-04-22T03:33:36.475079Z",
     "start_time": "2025-04-22T03:33:34.973416Z"
    }
   },
   "cell_type": "code",
   "source": [
    "from gensim.parsing import PorterStemmer\n",
    "from nltk.stem import WordNetLemmatizer\n",
    "import nltk"
   ],
   "id": "abb1eccbc7021d70",
   "outputs": [
    {
     "name": "stderr",
     "output_type": "stream",
     "text": [
      "D:\\Surrounding\\anaconda3\\Lib\\site-packages\\paramiko\\pkey.py:82: CryptographyDeprecationWarning: TripleDES has been moved to cryptography.hazmat.decrepit.ciphers.algorithms.TripleDES and will be removed from this module in 48.0.0.\n",
      "  \"cipher\": algorithms.TripleDES,\n",
      "D:\\Surrounding\\anaconda3\\Lib\\site-packages\\paramiko\\transport.py:219: CryptographyDeprecationWarning: Blowfish has been moved to cryptography.hazmat.decrepit.ciphers.algorithms.Blowfish and will be removed from this module in 45.0.0.\n",
      "  \"class\": algorithms.Blowfish,\n",
      "D:\\Surrounding\\anaconda3\\Lib\\site-packages\\paramiko\\transport.py:243: CryptographyDeprecationWarning: TripleDES has been moved to cryptography.hazmat.decrepit.ciphers.algorithms.TripleDES and will be removed from this module in 48.0.0.\n",
      "  \"class\": algorithms.TripleDES,\n"
     ]
    }
   ],
   "execution_count": 45
  },
  {
   "metadata": {
    "ExecuteTime": {
     "end_time": "2025-04-22T03:36:07.260593Z",
     "start_time": "2025-04-22T03:36:07.254777Z"
    }
   },
   "cell_type": "code",
   "source": [
    "# 使用ntlk 进行词干提取\n",
    "stemmer = PorterStemmer()\n",
    "word1,word2 = \"cars\",\"revolution\"\n",
    "print(stemmer.stem(word1)),stemmer.stem(word2)"
   ],
   "id": "b86bc49f88a6552b",
   "outputs": [
    {
     "name": "stdout",
     "output_type": "stream",
     "text": [
      "car\n"
     ]
    },
    {
     "data": {
      "text/plain": [
       "(None, 'revolut')"
      ]
     },
     "execution_count": 48,
     "metadata": {},
     "output_type": "execute_result"
    }
   ],
   "execution_count": 48
  },
  {
   "metadata": {
    "ExecuteTime": {
     "end_time": "2025-04-22T03:36:12.817433Z",
     "start_time": "2025-04-22T03:36:09.209762Z"
    }
   },
   "cell_type": "code",
   "source": [
    "# 使用nltk 进行词形还原\n",
    "lemmatizer = WordNetLemmatizer()\n",
    "print(lemmatizer.lemmatize('better',pos=\"a\"))"
   ],
   "id": "c05beaa59ecc6329",
   "outputs": [
    {
     "name": "stdout",
     "output_type": "stream",
     "text": [
      "good\n"
     ]
    }
   ],
   "execution_count": 49
  },
  {
   "metadata": {
    "ExecuteTime": {
     "end_time": "2025-04-22T06:08:04.479791Z",
     "start_time": "2025-04-22T06:08:03.396941Z"
    }
   },
   "cell_type": "code",
   "source": [
    "# 使用spaCy 的词形还原器\n",
    "import spacy\n",
    "sp = spacy.load(\"en_core_web_sm\")\n",
    "tokens = sp(u'better')\n",
    "for word in tokens:\n",
    "    print(word.text,word.lemma_)"
   ],
   "id": "4f9a6b6ef62bd7bf",
   "outputs": [
    {
     "name": "stdout",
     "output_type": "stream",
     "text": [
      "better well\n"
     ]
    }
   ],
   "execution_count": 57
  },
  {
   "metadata": {},
   "cell_type": "markdown",
   "source": [
    "NLTK 打印输出为good Spacy词形还原为well，两者都正确.\n",
    "\n",
    "文本转小写通常优先于词干提取，而词形还原先于删除词元或文本转小写，这是因为词形还原需要知道词的词性，而这又要求句子中的所有词都必须原封不动。\n",
    "### 英文语料预处理步骤\n",
    "分词-词干提取-词形还原-词性标注-NER-分块\n",
    "https://zhuanlan.zhihu.com/p/78217379#:~:text=%E5%9C%A8%E5%8E%9F%E7%90%86%E4%B8%8A%EF%BC%8C%E8%AF%8D%E5%B9%B2%E6%8F%90%E5%8F%96%E4%B8%BB%E8%A6%81%E6%98%AF%E9%87%87%E7%94%A8%E2%80%9C%E7%BC%A9%E5%87%8F%E2%80%9D%E7%9A%84%E6%96%B9%E6%B3%95%EF%BC%8C%E5%B0%86%E8%AF%8D%E8%BD%AC%E6%8D%A2%E4%B8%BA%E8%AF%8D%E5%B9%B2%EF%BC%8C%E5%A6%82%E5%B0%86%E2%80%9Ccats%E2%80%9D%E5%A4%84%E7%90%86%E4%B8%BA%E2%80%9Ccat%E2%80%9D%EF%BC%8C%E5%B0%86%E2%80%9Ceffective%E2%80%9D%E5%A4%84%E7%90%86%E4%B8%BA%E2%80%9Ceffect%E2%80%9D%E3%80%82,%E8%80%8C%E8%AF%8D%E5%BD%A2%E8%BF%98%E5%8E%9F%E4%B8%BB%E8%A6%81%E9%87%87%E7%94%A8%E2%80%9C%E8%BD%AC%E5%8F%98%E2%80%9D%E7%9A%84%E6%96%B9%E6%B3%95%EF%BC%8C%E5%B0%86%E8%AF%8D%E8%BD%AC%E5%8F%98%E4%B8%BA%E5%85%B6%E5%8E%9F%E5%BD%A2%EF%BC%8C%E5%A6%82%E5%B0%86%E2%80%9Cdrove%E2%80%9D%E5%A4%84%E7%90%86%E4%B8%BA%E2%80%9Cdrive%E2%80%9D%EF%BC%8C%E5%B0%86%E2%80%9Cdriving%E2%80%9D%E5%A4%84%E7%90%86%E4%B8%BA%E2%80%9Cdrive%E2%80%9D%E3%80%82\n",
    "### 为什么要做词干提取和词形还原\n",
    "    比如当我搜索「play basketball」时，Bob is playing basketball 也符合我的要求，但是 play 和 playing 对于计算机来说是 2 种完全不同的东西，所以我们需要将 playing 转换成 play。\n",
    "    词干提取和词形还原的目的就是将长相不同，但是含义相同的词统一起来，这样方便后续的处理和分析。\n",
    "### 词干提取原理\n",
    "    词干提取就是去除单词的前后缀得到词根的过程\n",
    "    如 plays played playing 的词干都是play\n",
    "    目前词干提取的主流实现方式是利用语言中存在的规则或利用词典映射提取词干或获得词的原形\n",
    "    主要是通过采用“缩减”的方法，将词转换为词干\n",
    "### 词形还原原理\n",
    "    词形还原是基于词典，将单词的复杂形态转变为最基础的形态\n",
    "    如 is are been 的词形还原结果为 be\n",
    "    主流方式同词干提取差不多\n",
    "    词形还原主要采用“转变”的方法，将词转变为其原形\n",
    "### 词干提取算法\n",
    "    #### Porter\n",
    "    主要关注点是删除单词的共同结尾\n",
    "    #### Snowball\n",
    "    #### Lancaster\n",
    "\n"
   ],
   "id": "ff21b5c11df3d9bb"
  },
  {
   "metadata": {
    "ExecuteTime": {
     "end_time": "2025-04-22T06:55:20.768835Z",
     "start_time": "2025-04-22T06:55:20.361927Z"
    }
   },
   "cell_type": "code",
   "source": [
    "import spacy\n",
    "nlp = spacy.load(\"en_core_web_sm\")\n",
    "doc = nlp(U\"Youth means a temperamental predominance of courage over timidity, of the appetite for adventure over the love of ease. This often exists in a man of 60 more than a boy of 20. Nobody grows old merely by a number of years. We grow old by deserting our ideals.\")\n",
    "text = []\n",
    "词干提取 = []\n",
    "词形还原 = []\n",
    "for token in doc:\n",
    "    text.append(token.text)\n",
    "    词干提取.append(token.lemma_)\n",
    "    词形还原.append(token.pos_)\n",
    "    print(token.text,token.lemma_,token.pos_,token.shape_,token.is_alpha,token.is_stop)"
   ],
   "id": "47653ed8679feb8c",
   "outputs": [
    {
     "name": "stdout",
     "output_type": "stream",
     "text": [
      "Youth youth NOUN Xxxxx True False\n",
      "means mean VERB xxxx True False\n",
      "a a DET x True True\n",
      "temperamental temperamental ADJ xxxx True False\n",
      "predominance predominance NOUN xxxx True False\n",
      "of of ADP xx True True\n",
      "courage courage NOUN xxxx True False\n",
      "over over ADP xxxx True True\n",
      "timidity timidity NOUN xxxx True False\n",
      ", , PUNCT , False False\n",
      "of of ADP xx True True\n",
      "the the DET xxx True True\n",
      "appetite appetite NOUN xxxx True False\n",
      "for for ADP xxx True True\n",
      "adventure adventure NOUN xxxx True False\n",
      "over over ADP xxxx True True\n",
      "the the DET xxx True True\n",
      "love love NOUN xxxx True False\n",
      "of of ADP xx True True\n",
      "ease ease NOUN xxxx True False\n",
      ". . PUNCT . False False\n",
      "This this PRON Xxxx True True\n",
      "often often ADV xxxx True True\n",
      "exists exist VERB xxxx True False\n",
      "in in ADP xx True True\n",
      "a a DET x True True\n",
      "man man NOUN xxx True False\n",
      "of of ADP xx True True\n",
      "60 60 NUM dd False False\n",
      "more more ADJ xxxx True True\n",
      "than than ADP xxxx True True\n",
      "a a DET x True True\n",
      "boy boy NOUN xxx True False\n",
      "of of ADP xx True True\n",
      "20 20 NUM dd False False\n",
      ". . PUNCT . False False\n",
      "Nobody nobody PRON Xxxxx True True\n",
      "grows grow VERB xxxx True False\n",
      "old old ADJ xxx True False\n",
      "merely merely ADV xxxx True False\n",
      "by by ADP xx True True\n",
      "a a DET x True True\n",
      "number number NOUN xxxx True False\n",
      "of of ADP xx True True\n",
      "years year NOUN xxxx True False\n",
      ". . PUNCT . False False\n",
      "We we PRON Xx True True\n",
      "grow grow VERB xxxx True False\n",
      "old old ADJ xxx True False\n",
      "by by ADP xx True True\n",
      "deserting desert VERB xxxx True False\n",
      "our our PRON xxx True True\n",
      "ideals ideal NOUN xxxx True False\n",
      ". . PUNCT . False False\n"
     ]
    }
   ],
   "execution_count": 71
  },
  {
   "metadata": {
    "ExecuteTime": {
     "end_time": "2025-04-22T06:55:22.850681Z",
     "start_time": "2025-04-22T06:55:22.846599Z"
    }
   },
   "cell_type": "code",
   "source": "str(text)",
   "id": "87786ba0a2eaf422",
   "outputs": [
    {
     "data": {
      "text/plain": [
       "\"['Youth', 'means', 'a', 'temperamental', 'predominance', 'of', 'courage', 'over', 'timidity', ',', 'of', 'the', 'appetite', 'for', 'adventure', 'over', 'the', 'love', 'of', 'ease', '.', 'This', 'often', 'exists', 'in', 'a', 'man', 'of', '60', 'more', 'than', 'a', 'boy', 'of', '20', '.', 'Nobody', 'grows', 'old', 'merely', 'by', 'a', 'number', 'of', 'years', '.', 'We', 'grow', 'old', 'by', 'deserting', 'our', 'ideals', '.']\""
      ]
     },
     "execution_count": 72,
     "metadata": {},
     "output_type": "execute_result"
    }
   ],
   "execution_count": 72
  },
  {
   "metadata": {
    "ExecuteTime": {
     "end_time": "2025-04-22T06:55:24.447321Z",
     "start_time": "2025-04-22T06:55:24.442008Z"
    }
   },
   "cell_type": "code",
   "source": "str(词干提取)",
   "id": "7ef0a968ebb84ea6",
   "outputs": [
    {
     "data": {
      "text/plain": [
       "\"['youth', 'mean', 'a', 'temperamental', 'predominance', 'of', 'courage', 'over', 'timidity', ',', 'of', 'the', 'appetite', 'for', 'adventure', 'over', 'the', 'love', 'of', 'ease', '.', 'this', 'often', 'exist', 'in', 'a', 'man', 'of', '60', 'more', 'than', 'a', 'boy', 'of', '20', '.', 'nobody', 'grow', 'old', 'merely', 'by', 'a', 'number', 'of', 'year', '.', 'we', 'grow', 'old', 'by', 'desert', 'our', 'ideal', '.']\""
      ]
     },
     "execution_count": 73,
     "metadata": {},
     "output_type": "execute_result"
    }
   ],
   "execution_count": 73
  },
  {
   "metadata": {
    "ExecuteTime": {
     "end_time": "2025-04-22T06:55:25.733860Z",
     "start_time": "2025-04-22T06:55:25.729356Z"
    }
   },
   "cell_type": "code",
   "source": "str(词形还原)",
   "id": "17b27687c6000c98",
   "outputs": [
    {
     "data": {
      "text/plain": [
       "\"['NOUN', 'VERB', 'DET', 'ADJ', 'NOUN', 'ADP', 'NOUN', 'ADP', 'NOUN', 'PUNCT', 'ADP', 'DET', 'NOUN', 'ADP', 'NOUN', 'ADP', 'DET', 'NOUN', 'ADP', 'NOUN', 'PUNCT', 'PRON', 'ADV', 'VERB', 'ADP', 'DET', 'NOUN', 'ADP', 'NUM', 'ADJ', 'ADP', 'DET', 'NOUN', 'ADP', 'NUM', 'PUNCT', 'PRON', 'VERB', 'ADJ', 'ADV', 'ADP', 'DET', 'NOUN', 'ADP', 'NOUN', 'PUNCT', 'PRON', 'VERB', 'ADJ', 'ADP', 'VERB', 'PRON', 'NOUN', 'PUNCT']\""
      ]
     },
     "execution_count": 74,
     "metadata": {},
     "output_type": "execute_result"
    }
   ],
   "execution_count": 74
  },
  {
   "metadata": {},
   "cell_type": "markdown",
   "source": "## 特征工程\n",
   "id": "e4c6dc6f96cb145a"
  },
  {
   "metadata": {},
   "cell_type": "code",
   "outputs": [],
   "execution_count": null,
   "source": "",
   "id": "12b5f29f2fea05d3"
  }
 ],
 "metadata": {
  "kernelspec": {
   "display_name": "Python 3",
   "language": "python",
   "name": "python3"
  },
  "language_info": {
   "codemirror_mode": {
    "name": "ipython",
    "version": 2
   },
   "file_extension": ".py",
   "mimetype": "text/x-python",
   "name": "python",
   "nbconvert_exporter": "python",
   "pygments_lexer": "ipython2",
   "version": "2.7.6"
  }
 },
 "nbformat": 4,
 "nbformat_minor": 5
}
